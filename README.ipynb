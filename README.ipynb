{
 "cells": [
  {
   "cell_type": "markdown",
   "metadata": {
    "slideshow": {
     "slide_type": "slide"
    }
   },
   "source": [
    "Description\n",
    "===========\n",
    "\n",
    "Docker container for running OCRopus commands. This bundles up:\n",
    "\n",
    "    - CUDA and PyTorch\n",
    "    - A Python 2.7 Conda installation\n",
    "    - The major modules from OCRopus3\n",
    "\n",
    "PyTorch is currently at version 0.3.1, since OCRopus hasn't been converted yet\n",
    "to PyTorch 0.4.\n",
    "\n",
    "You need to set a Jupyter password (see `jupyter_config/README`) and\n",
    "a VNC password (see `vnc_config/README`).\n",
    "\n",
    "To clone this repository, use the `--recursive` flag:\n",
    "\n",
    "    git clone --recursive git@github.com:tmbdev/ocropus3-docker.git\n",
    "    cd ocropus3-docker\n",
    "    ./build"
   ]
  },
  {
   "cell_type": "markdown",
   "metadata": {
    "slideshow": {
     "slide_type": "slide"
    }
   },
   "source": [
    "The `ocropus3-docker` repository builds a Docker container that you can use to run OCRopus3 on any platform.\n",
    "\n",
    "- `./build` -- build the container\n",
    "- `./ocropy` -- run the container\n",
    "\n",
    "The container automatically starts a VNC server for graphical output. Inside the container is a complete OCRopus3 installation."
   ]
  },
  {
   "cell_type": "markdown",
   "metadata": {
    "slideshow": {
     "slide_type": "slide"
    }
   },
   "source": [
    "# Docker Container\n",
    "\n",
    "Some notes on the Docker container:\n",
    "\n",
    "- the pytorch version is 0.3.1; OCRopus hasn't been ported to 0.4 yet\n",
    "- the Python installation is in /opt/conda, separate from the regular Ubuntu installation"
   ]
  },
  {
   "cell_type": "code",
   "execution_count": 2,
   "metadata": {
    "slideshow": {
     "slide_type": "slide"
    }
   },
   "outputs": [
    {
     "name": "stdout",
     "output_type": "stream",
     "text": [
      "FROM nvidia/cuda:9.0-base\r\n",
      "#FROM nvidia/cuda:9.1-base\r\n",
      "#FROM nvidia/cuda:9.2-devel-ubuntu18.04\r\n",
      "MAINTAINER Tom Breuel <tmbdev@gmail.com>\r\n",
      "\r\n",
      "ENV DEBIAN_FRONTEND noninteractive\r\n",
      "ENV DEBCONF_NONINTERACTIVE_SEEN true\r\n",
      "\r\n",
      "RUN apt-get -y update\r\n",
      "\r\n",
      "...\r\n",
      "ADD scripts/* /usr/local/bin/\r\n",
      "\r\n",
      "RUN true \\\r\n",
      "    && echo \". /opt/conda/etc/profile.d/conda.sh\" >> $HOME/.bashrc \\\r\n",
      "    && echo \"conda activate base\" >> $HOME/.bashrc \\\r\n",
      "    && chown -R $USER.$USER $HOME\r\n",
      "RUN echo 'user ALL=(ALL:ALL) NOPASSWD:ALL' >> /etc/sudoers\r\n",
      "\r\n",
      "USER $UID\r\n",
      "ENTRYPOINT [\"runcmd\"]\r\n"
     ]
    }
   ],
   "source": [
    "!head Dockerfile; echo ...; tail Dockerfile"
   ]
  },
  {
   "cell_type": "code",
   "execution_count": 4,
   "metadata": {
    "slideshow": {
     "slide_type": "slide"
    }
   },
   "outputs": [
    {
     "name": "stdout",
     "output_type": "stream",
     "text": [
      "\r\n",
      "\r\n",
      "\r\n",
      "\r\n",
      "Sending build context to Docker daemon  150.4MB\r",
      "\r",
      "\r\n",
      "Step 1/67 : FROM nvidia/cuda:9.0-base\r\n",
      " ---> f3a8582463d4\r\n",
      "Step 2/67 : MAINTAINER Tom Breuel <tmbdev@gmail.com>\r\n",
      " ---> Using cache\r\n",
      " ---> 488754540ac4\r\n",
      "...\r\n",
      " ---> Using cache\r\n",
      " ---> e4114a076054\r\n",
      "Step 66/67 : USER $UID\r\n",
      " ---> Using cache\r\n",
      " ---> 10c9fd428517\r\n",
      "Step 67/67 : ENTRYPOINT [\"runcmd\"]\r\n",
      " ---> Using cache\r\n",
      " ---> 1ccdca692521\r\n",
      "Successfully built 1ccdca692521\r\n",
      "Successfully tagged ocropy:latest\r\n"
     ]
    }
   ],
   "source": [
    "!./build > log 2>&1 log\n",
    "! head log; echo ...; tail log"
   ]
  },
  {
   "cell_type": "markdown",
   "metadata": {
    "slideshow": {
     "slide_type": "slide"
    }
   },
   "source": [
    "Segmentation\n",
    "============\n",
    "\n",
    "Train a model with:\n",
    "\n",
    "    ./ocropy ocroseg-train -d http://storage.googleapis.com/lpr-ocr/uw3-framed-lines.tgz\n",
    "\n",
    "Models will be saved in the current directory.\n",
    "\n",
    "You can view the training progress by connecting using VNC:\n",
    "\n",
    "    xtightvncviewer :99\n",
    "\n",
    "Models are saved in the current directory by default."
   ]
  },
  {
   "cell_type": "code",
   "execution_count": 5,
   "metadata": {
    "slideshow": {
     "slide_type": "slide"
    }
   },
   "outputs": [
    {
     "name": "stdout",
     "output_type": "stream",
     "text": [
      "+ ocroseg-train --maxtrain 10 -d http://storage.googleapis.com/lpr-ocr/uw3-framed-lines.tgz\n",
      "raw sample:\n",
      "__key__ 'A001BIN'\n",
      "__source__ 'http://storage.googleapis.com/lpr-ocr/uw3-framed-lines.tgz'\n",
      "lines.png float32 (3300, 2592)\n",
      "png float32 (3300, 2592)\n",
      "\n",
      "preprocessed sample:\n",
      "__key__ <type 'list'> ['A00BBIN']\n",
      "__source__ <type 'list'> ['http://storage.googleapis.com/lpr-ocr/uw3-framed-lines.tgz\n",
      "input float32 (1, 3300, 2592, 1)\n",
      "mask float32 (1, 3300, 2592, 1)\n",
      "output float32 (1, 3300, 2592, 1)\n",
      "\n",
      "ntrain 0\n",
      "model:\n",
      "Sequential(\n",
      "  (0): Conv2d(1, 10, kernel_size=(3, 3), stride=(1, 1), padding=(1, 1))\n",
      "  (1): BatchNorm2d(10, eps=1e-05, momentum=0.1, affine=True)\n",
      "  (2): ReLU()\n",
      "  (3): MaxPool2d(kernel_size=(2, 2), stride=(2, 2), dilation=(1, 1), ceil_mode=False)\n",
      "  (4): Conv2d(10, 20, kernel_size=(3, 3), stride=(1, 1), padding=(1, 1))\n",
      "  (5): BatchNorm2d(20, eps=1e-05, momentum=0.1, affine=True)\n",
      "  (6): ReLU()\n",
      "  (7): MaxPool2d(kernel_size=(2, 2), stride=(2, 2), dilation=(1, 1), ceil_mode=False)\n",
      "  (8): Conv2d(20, 40, kernel_size=(3, 3), stride=(1, 1), padding=(1, 1))\n",
      "  (9): BatchNorm2d(40, eps=1e-05, momentum=0.1, affine=True)\n",
      "  (10): ReLU()\n",
      "  (11): LSTM2(\n",
      "    (hlstm): RowwiseLSTM(\n",
      "      (lstm): LSTM(40, 20, bidirectional=1)\n",
      "    )\n",
      "    (vlstm): RowwiseLSTM(\n",
      "      (lstm): LSTM(40, 20, bidirectional=1)\n",
      "    )\n",
      "  )\n",
      "  (12): Conv2d(40, 20, kernel_size=(1, 1), stride=(1, 1))\n",
      "  (13): BatchNorm2d(20, eps=1e-05, momentum=0.1, affine=True)\n",
      "  (14): ReLU()\n",
      "  (15): LSTM2(\n",
      "    (hlstm): RowwiseLSTM(\n",
      "      (lstm): LSTM(20, 20, bidirectional=1)\n",
      "    )\n",
      "    (vlstm): RowwiseLSTM(\n",
      "      (lstm): LSTM(40, 20, bidirectional=1)\n",
      "    )\n",
      "  )\n",
      "  (16): Conv2d(40, 1, kernel_size=(1, 1), stride=(1, 1))\n",
      "  (17): Sigmoid()\n",
      ")\n",
      "\n",
      "0 0 ['A009BIN'] 0.2962794 ['A009BIN'] 0.54305035 0.5665481 lr 0.03\n",
      "QStandardPaths: XDG_RUNTIME_DIR not set, defaulting to '/tmp/runtime-user'\n",
      "Qt: XKEYBOARD extension not present on the X server.\n",
      "1 1 ['A006BIN'] 0.29043648 ['A006BIN'] 0.5404598 0.56086785 lr 0.03\n",
      "2 2 ['A008BIN'] 0.28884253 ['A008BIN'] 0.53802246 0.56062347 lr 0.03\n",
      "3 3 ['A00CBIN'] 0.2859728 ['A00CBIN'] 0.535628 0.55684537 lr 0.03\n",
      "4 4 ['A005BIN'] 0.286726 ['A005BIN'] 0.53285736 0.562014 lr 0.03\n",
      "5 5 ['A00HBIN'] 0.28326982 ['A00HBIN'] 0.5305174 0.55573297 lr 0.03\n",
      "6 6 ['A007BIN'] 0.27790707 ['A007BIN'] 0.5284845 0.5487046 lr 0.03\n",
      "7 7 ['A034BIN'] 0.27982852 ['A034BIN'] 0.5263229 0.5530843 lr 0.03\n",
      "8 8 ['A00MBIN'] 0.27892584 ['A00MBIN'] 0.523264 0.5461206 lr 0.03\n",
      "9 9 ['A00GBIN'] 0.2749654 ['A00GBIN'] 0.5199225 0.54841495 lr 0.03\n"
     ]
    }
   ],
   "source": [
    "!./ocropy ocroseg-train --maxtrain 10 -d http://storage.googleapis.com/lpr-ocr/uw3-framed-lines.tgz"
   ]
  },
  {
   "cell_type": "markdown",
   "metadata": {},
   "source": [
    "Line Recognition\n",
    "================\n",
    "\n",
    "Train a model with:\n",
    "\n",
    "    ./ocropy ocroline-train -d http://storage.googleapis.com/lpr-ocr/uw3-dew-training.tgz \\\n",
    "            -t http://storage.googleapis.com/lpr-ocr/uw3-dew-testing.tgz\n",
    "\n",
    "Models will be saved in the current directory.\n",
    "\n",
    "You can view the training progress by connecting using VNC:\n",
    "\n",
    "    xtightvncviewer :99\n",
    "\n",
    "Models are saved in the current directory by default."
   ]
  },
  {
   "cell_type": "markdown",
   "metadata": {
    "slideshow": {
     "slide_type": "slide"
    }
   },
   "source": [
    "# Kubernetes"
   ]
  },
  {
   "cell_type": "markdown",
   "metadata": {
    "slideshow": {
     "slide_type": "slide"
    }
   },
   "source": [
    "To run `ocropus3` on Kubernetes, you need to do the following:\n",
    "\n",
    "- log into Google, set up Config.sh according to your project\n",
    "- start up a Kubernetes cluster (`ku init`)\n",
    "- submit your training job(s) (`kubectl apply -f ocroline-train.yaml`)"
   ]
  },
  {
   "cell_type": "markdown",
   "metadata": {
    "slideshow": {
     "slide_type": "slide"
    }
   },
   "source": [
    "On GKE (Google Kubernetes Engine), you...\n",
    "\n",
    "- write a job description in a YAML file\n",
    "- use gs:// or http://storage.googleapis.com for your input shards\n",
    "- save your models periodically to a Google storage bucket"
   ]
  },
  {
   "cell_type": "code",
   "execution_count": 1,
   "metadata": {
    "slideshow": {
     "slide_type": "slide"
    }
   },
   "outputs": [
    {
     "name": "stdout",
     "output_type": "stream",
     "text": [
      "cluster=tmblearn\r\n",
      "zone=us-central1-f\r\n",
      "project=research-191823\r\n",
      "image=gcr.io/$project/ocropy\r\n",
      "cpu_machine=n1-standard-8\r\n",
      "cpu_nodes=3\r\n",
      "gpu_machine=n1-standard-16\r\n",
      "gpu_nodes=2\r\n"
     ]
    }
   ],
   "source": [
    "!cat Config.sh"
   ]
  },
  {
   "cell_type": "code",
   "execution_count": 3,
   "metadata": {
    "slideshow": {
     "slide_type": "slide"
    }
   },
   "outputs": [
    {
     "name": "stdout",
     "output_type": "stream",
     "text": [
      "init -- initialize the cluster\r\n",
      "daemonset -- start the NVIDIA daemonset\r\n",
      "status -- cluster status\r\n",
      "pods -- node list\r\n",
      "stats -- node stats\r\n",
      "build -- build the cloud image\r\n",
      "kill -- kill the cluster\r\n",
      "connect -- connect to a cluster\r\n",
      "forward -- connect to a cluster\r\n",
      "help -- display this help\r\n"
     ]
    }
   ],
   "source": [
    "!ku help"
   ]
  },
  {
   "cell_type": "code",
   "execution_count": 4,
   "metadata": {
    "slideshow": {
     "slide_type": "slide"
    }
   },
   "outputs": [
    {
     "name": "stdout",
     "output_type": "stream",
     "text": [
      "NAME      LOCATION       MASTER_VERSION  MASTER_IP       MACHINE_TYPE   NODE_VERSION  NUM_NODES  STATUS\n",
      "tmblearn  us-central1-f  1.9.7-gke.1     104.198.252.27  n1-standard-8  1.9.7-gke.1   5          RUNNING\n",
      "NAME          MACHINE_TYPE    DISK_SIZE_GB  NODE_VERSION\n",
      "default-pool  n1-standard-8   100           1.9.7-gke.1\n",
      "p100          n1-standard-16  100           1.9.7-gke.1\n"
     ]
    }
   ],
   "source": [
    "!ku status"
   ]
  },
  {
   "cell_type": "code",
   "execution_count": 5,
   "metadata": {
    "slideshow": {
     "slide_type": "slide"
    }
   },
   "outputs": [
    {
     "name": "stdout",
     "output_type": "stream",
     "text": [
      "NAME      LOCATION       MASTER_VERSION  MASTER_IP       MACHINE_TYPE   NODE_VERSION  NUM_NODES  STATUS\n",
      "tmblearn  us-central1-f  1.9.7-gke.1     104.198.252.27  n1-standard-8  1.9.7-gke.1   5          RUNNING\n",
      "\n",
      "NAME         TYPE        CLUSTER-IP    EXTERNAL-IP   PORT(S)   AGE\n",
      "kubernetes   ClusterIP   10.27.240.1   <none>        443/TCP   1d\n",
      "\n",
      "      1 ocroline-train Running\n",
      "      1 ocroseg-train Running\n"
     ]
    }
   ],
   "source": [
    "!ku stats"
   ]
  },
  {
   "cell_type": "code",
   "execution_count": 8,
   "metadata": {
    "slideshow": {
     "slide_type": "slide"
    }
   },
   "outputs": [
    {
     "name": "stdout",
     "output_type": "stream",
     "text": [
      "apiVersion: batch/v1\r\n",
      "kind: Job\r\n",
      "metadata:\r\n",
      "  name: ocroseg-train\r\n",
      "spec:\r\n",
      "  template:\r\n",
      "    spec:\r\n",
      "      containers:\r\n",
      "      - name: ocroseg-train\r\n",
      "        image: gcr.io/research-191823/ocropy\r\n",
      "        workingDir: \"/tmp\"\r\n",
      "        command: [\"/usr/local/bin/runcmd\"]\r\n",
      "        args:\r\n",
      "        - ocroseg-train\r\n",
      "        - \"-d\"\r\n",
      "        - \"http://storage.googleapis.com/lpr-ocr/uw3-framed-lines.tgz\"\r\n",
      "        - \"-o\"\r\n",
      "        - \"ocroseg\"\r\n",
      "        resources:\r\n",
      "          requests:\r\n",
      "          limits:\r\n",
      "            nvidia.com/gpu: \"1\"\r\n",
      "            cpu: 12\r\n",
      "            memory: \"48000Mi\"\r\n",
      "      nodeSelector:\r\n",
      "        cloud.google.com/gke-accelerator: nvidia-tesla-p100\r\n",
      "      restartPolicy: Never\r\n",
      "  backoffLimit: 4\r\n"
     ]
    }
   ],
   "source": [
    "!cat ocroseg-train.yaml"
   ]
  },
  {
   "cell_type": "code",
   "execution_count": 9,
   "metadata": {
    "slideshow": {
     "slide_type": "slide"
    }
   },
   "outputs": [
    {
     "name": "stdout",
     "output_type": "stream",
     "text": [
      "gs://lpr-ocr/_uw3-patches.tgz\r\n",
      "gs://lpr-ocr/uw3-dew-testing.tgz\r\n",
      "gs://lpr-ocr/uw3-dew-training.tgz\r\n",
      "gs://lpr-ocr/uw3-framed-lines-test.tgz\r\n",
      "gs://lpr-ocr/uw3-framed-lines-train.tgz\r\n",
      "gs://lpr-ocr/uw3-framed-lines.tgz\r\n",
      "gs://lpr-ocr/uw3-framed-zones.tgz\r\n",
      "gs://lpr-ocr/uw3-lines-dew.tgz\r\n",
      "gs://lpr-ocr/uw3-lines.tgz\r\n",
      "gs://lpr-ocr/uw3-pages-test.tgz\r\n",
      "gs://lpr-ocr/uw3-pages-train.tgz\r\n",
      "gs://lpr-ocr/uw3-zones.tgz\r\n",
      "gs://lpr-ocr/_uw3-patches/\r\n",
      "gs://lpr-ocr/uw3-lines-old/\r\n"
     ]
    }
   ],
   "source": [
    "!gsutil ls gs://lpr-ocr/ | grep uw3"
   ]
  },
  {
   "cell_type": "code",
   "execution_count": 1,
   "metadata": {
    "slideshow": {
     "slide_type": "slide"
    }
   },
   "outputs": [
    {
     "name": "stdout",
     "output_type": "stream",
     "text": [
      "connecting to: ocroline-train-7fshb\n",
      "Miniconda2-latest-Linux-x86_64.sh  ol-000000665-010886.pt\n",
      "ol-000000005-239618.pt\t\t   ol-000000670-007518.pt\n",
      "ol-000000010-182026.pt\t\t   ol-000000675-007790.pt\n",
      "ol-000000015-119865.pt\t\t   ol-000000680-008311.pt\n",
      "ol-000000020-094170.pt\t\t   ol-000000685-007108.pt\n",
      "ol-000000025-079694.pt\t\t   ol-000000690-010020.pt\n",
      "ol-000000030-048406.pt\t\t   ol-000000695-006404.pt\n",
      "ol-000000035-058577.pt\t\t   ol-000000700-007747.pt\n",
      "ol-000000040-039189.pt\t\t   ol-000000705-007729.pt\n"
     ]
    }
   ],
   "source": [
    "!ku connect ocroline ls | head"
   ]
  },
  {
   "cell_type": "code",
   "execution_count": null,
   "metadata": {},
   "outputs": [],
   "source": []
  }
 ],
 "metadata": {
  "celltoolbar": "Slideshow",
  "kernelspec": {
   "display_name": "Python 2",
   "language": "python",
   "name": "python2"
  },
  "language_info": {
   "codemirror_mode": {
    "name": "ipython",
    "version": 2
   },
   "file_extension": ".py",
   "mimetype": "text/x-python",
   "name": "python",
   "nbconvert_exporter": "python",
   "pygments_lexer": "ipython2",
   "version": "2.7.14"
  }
 },
 "nbformat": 4,
 "nbformat_minor": 2
}
